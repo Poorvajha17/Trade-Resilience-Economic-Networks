{
  "nbformat": 4,
  "nbformat_minor": 0,
  "metadata": {
    "colab": {
      "provenance": []
    },
    "kernelspec": {
      "name": "python3",
      "display_name": "Python 3"
    },
    "language_info": {
      "name": "python"
    }
  },
  "cells": [
    {
      "cell_type": "code",
      "source": [
        "import pandas as pd\n",
        "\n",
        "df = pd.read_csv(\"final_cleaned_dataset.csv\")\n",
        "\n",
        "partner_cols = [c for c in df.columns if \"_Export\" in c or \"_Import\" in c]\n",
        "df[\"TotalTrade\"] = df[partner_cols].sum(axis=1)\n",
        "df[\"TDI\"] = df[partner_cols].div(df[\"TotalTrade\"].replace(0, 1), axis=0).pow(2).sum(axis=1)\n",
        "\n",
        "df[\"GDPpc_norm\"] = df[\"GDP (current US$)\"].fillna(0) / df[\"Total_Population_Both_sexes\"].replace(0, 1)\n",
        "\n",
        "df[\"ResilienceScore\"] = (\n",
        "    df[\"GDPpc_norm\"].rank(pct=True) +\n",
        "    (1 - df[\"TDI\"].rank(pct=True)) -\n",
        "    df[\"Poverty_headcount_ratio_at_$3.00_a_day_(2021_PPP)_(%_of_population)\"].rank(pct=True)\n",
        ")\n",
        "\n",
        "if \"Exports of goods and services (% of GDP)\" in df.columns and \"Imports of goods and services (% of GDP)\" in df.columns:\n",
        "    df[\"SpendingEfficiency\"] = (\n",
        "        df[\"GDP growth (annual %)\"].fillna(0) /\n",
        "        (df[\"Exports of goods and services (% of GDP)\"].fillna(0) +\n",
        "         df[\"Imports of goods and services (% of GDP)\"].fillna(0)).replace(0, 1)\n",
        "    )\n",
        "\n",
        "df[\"ShockImpact\"] = (\n",
        "    (df[\"Total Damage, Adjusted ('000 US$)\"].fillna(0) + 1) *\n",
        "    (\n",
        "        df[\"TDI\"].fillna(0) +\n",
        "        df[\"Unemployment,_total_(%_of_total_labor_force)_(modeled_ILO_estimate)\"].fillna(0)\n",
        "    )\n",
        ")\n",
        "\n",
        "df.to_csv(\"final_with_indexes.csv\", index=False)\n",
        "print(\"Added indexes (TDI, ResilienceScore, SpendingEfficiency, ShockImpact) to final_with_indexes.csv\")\n"
      ],
      "metadata": {
        "colab": {
          "base_uri": "https://localhost:8080/"
        },
        "id": "_3Cuts1sZvG-",
        "outputId": "cbfdc925-f2a4-46a5-cf88-6b7aaaa425b9"
      },
      "execution_count": null,
      "outputs": [
        {
          "output_type": "stream",
          "name": "stdout",
          "text": [
            "✅ Added indexes (TDI, ResilienceScore, SpendingEfficiency, ShockImpact) to final_with_indexes.csv\n"
          ]
        }
      ]
    }
  ]
}